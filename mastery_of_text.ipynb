{
 "cells": [
  {
   "cell_type": "code",
   "execution_count": null,
   "id": "4493a310-1f4f-43d6-9e3d-c90f98133991",
   "metadata": {},
   "outputs": [],
   "source": [
    "\"\"\"\n",
    "Instructions\n",
    "All of the following instructions are to be carried out in pure Python. \n",
    "You may not use any external programs like `wc` or `curl` for this task.\n",
    "\n",
    "You may use Python's built-in functions, but you may not use any library other than `urllib`.\n",
    "\n",
    "Use a Jupyter notebook for this assignment.\n",
    "\n",
    "Find a way to save the text stored at https://www.gutenberg.org/cache/epub/10/pg10.txt Links to an external site. \n",
    "into a Python variable called `pg10`.\n",
    " \n",
    "\n",
    "Using the string stored at `pg10` to answer the following questions:\n",
    "How many lines does the string have?\n",
    "How many words does the string have? (where a word is any set of directly-adjacent alphabet characters)\n",
    "How many times does the word \"apostle\", ignoring capitalization, appear in the string?\n",
    "What is the most common word, ignoring capitalization, in the string? (where a word is any set of directly-adjacent alphabet characters)\n",
    "\n",
    "\"\"\""
   ]
  },
  {
   "cell_type": "code",
   "execution_count": 157,
   "id": "2bb9c155-0411-479d-82c6-39d5b00be402",
   "metadata": {},
   "outputs": [
    {
     "name": "stdout",
     "output_type": "stream",
     "text": [
      "Number of lines: 99969\n",
      "Number of words: 791370\n",
      "Occurrences of the word 'apostle': 47\n",
      "Most common word: \"the\"\n"
     ]
    }
   ],
   "source": [
    "import urllib.request\n",
    "import string\n",
    "from collections import Counter\n",
    "\n",
    "url = \"https://www.gutenberg.org/cache/epub/10/pg10.txt\"\n",
    "text = urllib.request.urlopen(url)\n",
    "pg10 = text.read().decode()\n",
    "\n",
    "#Counting the number of lines\n",
    "lines = pg10.split('\\n')\n",
    "number_of_lines = len(lines)\n",
    "print(\"Number of lines:\",number_of_lines)\n",
    "\n",
    "#Counting the number of words\n",
    "replace_punctuation = str.maketrans(string.punctuation, ' ' * len(string.punctuation))\n",
    "new_text = pg10.lower().translate(replace_punctuation)\n",
    "word_list = new_text.split()\n",
    "alphabetic_words = [word for word in word_list if word.isalpha()]\n",
    "number_of_words = len(alphabetic_words)\n",
    "print(\"Number of words:\",number_of_words)\n",
    "\n",
    "#Counting the occurrences of the word \"apostle\"\n",
    "apostle_count = alphabetic_words.count('apostle')\n",
    "print(\"Occurrences of the word 'apostle':\",apostle_count)\n",
    "\n",
    "#Finding the most common word\n",
    "word_counts = Counter(alphabetic_words)\n",
    "most_common_word, most_common_word_count = word_counts.most_common(1)[0]\n",
    "print(\"Most common word:\",f'\"{most_common_word}\"')"
   ]
  },
  {
   "cell_type": "code",
   "execution_count": null,
   "id": "8edb7521-d563-4608-9fef-fc12edcdd307",
   "metadata": {},
   "outputs": [],
   "source": []
  }
 ],
 "metadata": {
  "kernelspec": {
   "display_name": "Python 3 (ipykernel)",
   "language": "python",
   "name": "python3"
  },
  "language_info": {
   "codemirror_mode": {
    "name": "ipython",
    "version": 3
   },
   "file_extension": ".py",
   "mimetype": "text/x-python",
   "name": "python",
   "nbconvert_exporter": "python",
   "pygments_lexer": "ipython3",
   "version": "3.11.8"
  }
 },
 "nbformat": 4,
 "nbformat_minor": 5
}
